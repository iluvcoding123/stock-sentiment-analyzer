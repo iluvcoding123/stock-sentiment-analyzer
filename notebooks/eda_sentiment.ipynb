{
 "cells": [
  {
   "cell_type": "markdown",
   "id": "f2ae7026",
   "metadata": {},
   "source": [
    "# EDA: VADER Baseline on Sample Financial Texts"
   ]
  },
  {
   "cell_type": "markdown",
   "id": "c30e90fa",
   "metadata": {},
   "source": [
    "## Imports & Paths"
   ]
  },
  {
   "cell_type": "code",
   "execution_count": null,
   "id": "3940e272",
   "metadata": {},
   "outputs": [],
   "source": [
    "import pandas as pd\n",
    "import numpy as np\n",
    "import matplotlib.pyplot as plt\n",
    "\n",
    "from pathlib import Path\n",
    "from src.preprocess.text_cleaner import clean_text\n",
    "from src.models.sentiment import score_vader\n",
    "\n",
    "RAW = Path(\"data/raw/sample_texts.csv\")\n",
    "OUT = Path(\"data/processed/sample_texts_scored.csv\")"
   ]
  },
  {
   "cell_type": "markdown",
   "id": "22ade118",
   "metadata": {},
   "source": [
    "## Load & Clean"
   ]
  },
  {
   "cell_type": "code",
   "execution_count": null,
   "id": "563d5b75",
   "metadata": {},
   "outputs": [],
   "source": [
    "df = pd.read_csv(RAW, parse_dates=[\"timestamp\"])\n",
    "df[\"text_clean\"] = df[\"text\"].map(clean_text)\n",
    "df.head()"
   ]
  },
  {
   "cell_type": "markdown",
   "id": "3fd75e88",
   "metadata": {},
   "source": [
    "## Score with VADER"
   ]
  },
  {
   "cell_type": "code",
   "execution_count": null,
   "id": "34eeb28a",
   "metadata": {},
   "outputs": [],
   "source": [
    "scored = score_vader(df.rename(columns={\"text_clean\":\"text\"}), text_col=\"text\")\n",
    "scored.head()"
   ]
  },
  {
   "cell_type": "markdown",
   "id": "54a92ce5",
   "metadata": {},
   "source": [
    "## Basic aggregates"
   ]
  },
  {
   "cell_type": "code",
   "execution_count": null,
   "id": "dfc96ddc",
   "metadata": {},
   "outputs": [],
   "source": [
    "# sentiment by ticker\n",
    "agg_ticker = scored.groupby(\"ticker\")[\"compound\"].mean().sort_values(ascending=False)\n",
    "display(agg_ticker)\n",
    "\n",
    "# resample by 15 minutes\n",
    "scored = scored.sort_values(\"timestamp\")\n",
    "sent_time = (\n",
    "    scored.set_index(\"timestamp\")\n",
    "          .groupby(\"ticker\")[\"compound\"]\n",
    "          .resample(\"15min\")\n",
    "          .mean()\n",
    "          .reset_index()\n",
    ")\n",
    "sent_time.head()"
   ]
  },
  {
   "cell_type": "markdown",
   "id": "f4d8e360",
   "metadata": {},
   "source": [
    "## Plots"
   ]
  },
  {
   "cell_type": "code",
   "execution_count": null,
   "id": "6db4c891",
   "metadata": {},
   "outputs": [],
   "source": [
    "# compound distribution\n",
    "scored[\"compound\"].plot(kind=\"hist\", bins=20, title=\"Compound Score Distribution\")\n",
    "plt.xlabel(\"compound\")\n",
    "plt.show()\n",
    "\n",
    "# time series by ticker\n",
    "for t in sent_time[\"ticker\"].unique():\n",
    "    tmp = sent_time[sent_time[\"ticker\"] == t]\n",
    "    tmp.plot(x=\"timestamp\", y=\"compound\", title=f\"{t} Sentiment over Time\")\n",
    "    plt.ylabel(\"compound\")\n",
    "    plt.show()"
   ]
  },
  {
   "cell_type": "markdown",
   "id": "803f9b9b",
   "metadata": {},
   "source": [
    "## Save Processed"
   ]
  },
  {
   "cell_type": "code",
   "execution_count": null,
   "id": "c67f5076",
   "metadata": {},
   "outputs": [],
   "source": [
    "scored.to_csv(OUT, index=False)\n",
    "OUT"
   ]
  }
 ],
 "metadata": {
  "language_info": {
   "name": "python"
  }
 },
 "nbformat": 4,
 "nbformat_minor": 5
}
